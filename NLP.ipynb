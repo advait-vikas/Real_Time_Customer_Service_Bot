{
  "nbformat": 4,
  "nbformat_minor": 0,
  "metadata": {
    "colab": {
      "provenance": []
    },
    "kernelspec": {
      "name": "python3",
      "display_name": "Python 3"
    },
    "language_info": {
      "name": "python"
    }
  },
  "cells": [
    {
      "cell_type": "markdown",
      "source": [
        "## Understanding NLP"
      ],
      "metadata": {
        "id": "st3qRYbsu2Eq"
      }
    },
    {
      "cell_type": "code",
      "execution_count": 1,
      "metadata": {
        "colab": {
          "base_uri": "https://localhost:8080/"
        },
        "id": "_POq4THKY0zp",
        "outputId": "59b7fcc0-2fc9-4a28-b3a9-2e6bf3d3f973"
      },
      "outputs": [
        {
          "output_type": "stream",
          "name": "stdout",
          "text": [
            "Requirement already satisfied: nltk in /usr/local/lib/python3.11/dist-packages (3.9.1)\n",
            "Requirement already satisfied: click in /usr/local/lib/python3.11/dist-packages (from nltk) (8.2.1)\n",
            "Requirement already satisfied: joblib in /usr/local/lib/python3.11/dist-packages (from nltk) (1.5.1)\n",
            "Requirement already satisfied: regex>=2021.8.3 in /usr/local/lib/python3.11/dist-packages (from nltk) (2024.11.6)\n",
            "Requirement already satisfied: tqdm in /usr/local/lib/python3.11/dist-packages (from nltk) (4.67.1)\n"
          ]
        }
      ],
      "source": [
        "!pip install nltk\n"
      ]
    },
    {
      "cell_type": "code",
      "source": [
        "para = \"\"\"\n",
        "Avul Pakir Jainulabdeen Abdul Kalam was an Indian aerospace scientist and statesman who served as the president of India from 2002 to 2007.\n",
        "Born and raised in a Muslim family in Rameswaram, Tamil Nadu, Kalam studied physics and aerospace engineering. He spent the next four decades as a scientist and science administrator, mainly at the Defence Research and Development Organisation (DRDO) and Indian Space Research Organisation (ISRO) and was intimately involved in India's civilian space programme and military missile development efforts. He was known as the \"Missile Man of India\" for his work on the development of ballistic missile and launch vehicle technology. He also played a pivotal organisational, technical, and political role in Pokhran-II nuclear tests in 1998, India's second such test after the first test in 1974.\n",
        "Kalam was elected as the president of India in 2002 with the support of both the ruling Bharatiya Janata Party and the then-opposition Indian National Congress. He was widely referred to as the \"People's President\". He engaged in teaching, writing and public service after his presidency. He was a recipient of several awards, including the Bharat Ratna, India's highest civilian honour.\n",
        "While delivering a lecture at IIM Shillong, Kalam collapsed and died from an apparent cardiac arrest on 27 July 2015, aged 83. Thousands attended the funeral ceremony held in his hometown of Rameswaram, where he was buried with full state honours. A memorial was inaugurated near his home town in 2017.\n",
        "\"\"\""
      ],
      "metadata": {
        "id": "ThqUPssAY4dq"
      },
      "execution_count": 2,
      "outputs": []
    },
    {
      "cell_type": "code",
      "source": [
        "import nltk\n",
        "from nltk.stem import PorterStemmer\n",
        "from nltk.corpus import stopwords"
      ],
      "metadata": {
        "id": "IXN5GoaDZNss"
      },
      "execution_count": 3,
      "outputs": []
    },
    {
      "cell_type": "code",
      "source": [
        "nltk.download('punkt')"
      ],
      "metadata": {
        "colab": {
          "base_uri": "https://localhost:8080/"
        },
        "id": "WEiSFeFeZdCO",
        "outputId": "51b8bd69-2925-4082-c28f-36a790e53432"
      },
      "execution_count": 4,
      "outputs": [
        {
          "output_type": "stream",
          "name": "stderr",
          "text": [
            "[nltk_data] Downloading package punkt to /root/nltk_data...\n",
            "[nltk_data]   Unzipping tokenizers/punkt.zip.\n"
          ]
        },
        {
          "output_type": "execute_result",
          "data": {
            "text/plain": [
              "True"
            ]
          },
          "metadata": {},
          "execution_count": 4
        }
      ]
    },
    {
      "cell_type": "code",
      "metadata": {
        "colab": {
          "base_uri": "https://localhost:8080/"
        },
        "id": "8611a464",
        "outputId": "2fd1ae78-e3d7-4042-aa8a-d1fc746befd5"
      },
      "source": [
        "nltk.download('punkt_tab')"
      ],
      "execution_count": 5,
      "outputs": [
        {
          "output_type": "stream",
          "name": "stderr",
          "text": [
            "[nltk_data] Downloading package punkt_tab to /root/nltk_data...\n",
            "[nltk_data]   Unzipping tokenizers/punkt_tab.zip.\n"
          ]
        },
        {
          "output_type": "execute_result",
          "data": {
            "text/plain": [
              "True"
            ]
          },
          "metadata": {},
          "execution_count": 5
        }
      ]
    },
    {
      "cell_type": "code",
      "source": [
        "sentence = nltk.sent_tokenize(para)"
      ],
      "metadata": {
        "id": "JXktuaL0Zgrg"
      },
      "execution_count": 6,
      "outputs": []
    },
    {
      "cell_type": "code",
      "source": [
        "type(sentence)"
      ],
      "metadata": {
        "colab": {
          "base_uri": "https://localhost:8080/"
        },
        "id": "uHndg83eZlvU",
        "outputId": "b867620e-c35a-42b5-a456-a53ebc1eabaa"
      },
      "execution_count": 7,
      "outputs": [
        {
          "output_type": "execute_result",
          "data": {
            "text/plain": [
              "list"
            ]
          },
          "metadata": {},
          "execution_count": 7
        }
      ]
    },
    {
      "cell_type": "code",
      "source": [
        "sentence"
      ],
      "metadata": {
        "colab": {
          "base_uri": "https://localhost:8080/"
        },
        "id": "tsSjh7sHZ32D",
        "outputId": "cfea455b-3c7e-47d9-8942-dcd8b8aa7832"
      },
      "execution_count": 8,
      "outputs": [
        {
          "output_type": "execute_result",
          "data": {
            "text/plain": [
              "['\\nAvul Pakir Jainulabdeen Abdul Kalam was an Indian aerospace scientist and statesman who served as the president of India from 2002 to 2007.',\n",
              " 'Born and raised in a Muslim family in Rameswaram, Tamil Nadu, Kalam studied physics and aerospace engineering.',\n",
              " \"He spent the next four decades as a scientist and science administrator, mainly at the Defence Research and Development Organisation (DRDO) and Indian Space Research Organisation (ISRO) and was intimately involved in India's civilian space programme and military missile development efforts.\",\n",
              " 'He was known as the \"Missile Man of India\" for his work on the development of ballistic missile and launch vehicle technology.',\n",
              " \"He also played a pivotal organisational, technical, and political role in Pokhran-II nuclear tests in 1998, India's second such test after the first test in 1974.\",\n",
              " 'Kalam was elected as the president of India in 2002 with the support of both the ruling Bharatiya Janata Party and the then-opposition Indian National Congress.',\n",
              " 'He was widely referred to as the \"People\\'s President\".',\n",
              " 'He engaged in teaching, writing and public service after his presidency.',\n",
              " \"He was a recipient of several awards, including the Bharat Ratna, India's highest civilian honour.\",\n",
              " 'While delivering a lecture at IIM Shillong, Kalam collapsed and died from an apparent cardiac arrest on 27 July 2015, aged 83.',\n",
              " 'Thousands attended the funeral ceremony held in his hometown of Rameswaram, where he was buried with full state honours.',\n",
              " 'A memorial was inaugurated near his home town in 2017.']"
            ]
          },
          "metadata": {},
          "execution_count": 8
        }
      ]
    },
    {
      "cell_type": "code",
      "source": [
        "stemmer = PorterStemmer()\n",
        "stemmer.stem('running')"
      ],
      "metadata": {
        "colab": {
          "base_uri": "https://localhost:8080/",
          "height": 36
        },
        "id": "6TcgHy1WZ9ZC",
        "outputId": "e46d954a-c03f-4ec0-dfe5-6027a695c063"
      },
      "execution_count": 9,
      "outputs": [
        {
          "output_type": "execute_result",
          "data": {
            "text/plain": [
              "'run'"
            ],
            "application/vnd.google.colaboratory.intrinsic+json": {
              "type": "string"
            }
          },
          "metadata": {},
          "execution_count": 9
        }
      ]
    },
    {
      "cell_type": "code",
      "source": [
        "nltk.download('wordnet')"
      ],
      "metadata": {
        "colab": {
          "base_uri": "https://localhost:8080/"
        },
        "id": "0vK2xeGzaXmC",
        "outputId": "acd4b32b-1a51-4aff-fcad-056f1bda9951"
      },
      "execution_count": 10,
      "outputs": [
        {
          "output_type": "stream",
          "name": "stderr",
          "text": [
            "[nltk_data] Downloading package wordnet to /root/nltk_data...\n"
          ]
        },
        {
          "output_type": "execute_result",
          "data": {
            "text/plain": [
              "True"
            ]
          },
          "metadata": {},
          "execution_count": 10
        }
      ]
    },
    {
      "cell_type": "code",
      "source": [
        "from nltk.stem import WordNetLemmatizer"
      ],
      "metadata": {
        "id": "IY8nc9l6adBC"
      },
      "execution_count": 11,
      "outputs": []
    },
    {
      "cell_type": "code",
      "source": [
        "lemmatizer = WordNetLemmatizer()\n",
        "lemmatizer.lemmatize('gives')"
      ],
      "metadata": {
        "colab": {
          "base_uri": "https://localhost:8080/",
          "height": 36
        },
        "id": "BWHm0_lDafkS",
        "outputId": "6fc25062-7c27-46f0-e2b8-fce82a5bd0bc"
      },
      "execution_count": 12,
      "outputs": [
        {
          "output_type": "execute_result",
          "data": {
            "text/plain": [
              "'give'"
            ],
            "application/vnd.google.colaboratory.intrinsic+json": {
              "type": "string"
            }
          },
          "metadata": {},
          "execution_count": 12
        }
      ]
    },
    {
      "cell_type": "code",
      "source": [
        "import re\n",
        "corpus=[]\n",
        "for i in range(len(sentence)):\n",
        "  text = re.sub('[^a-zA-Z]',\" \",sentence[i])\n",
        "  text = text.lower()\n",
        "  corpus.append(text)\n",
        "corpus"
      ],
      "metadata": {
        "colab": {
          "base_uri": "https://localhost:8080/"
        },
        "id": "fPxqVHCba3iM",
        "outputId": "bf1fe39c-65d8-42bd-dc03-a0dae7a08c34"
      },
      "execution_count": 13,
      "outputs": [
        {
          "output_type": "execute_result",
          "data": {
            "text/plain": [
              "[' avul pakir jainulabdeen abdul kalam was an indian aerospace scientist and statesman who served as the president of india from      to      ',\n",
              " 'born and raised in a muslim family in rameswaram  tamil nadu  kalam studied physics and aerospace engineering ',\n",
              " 'he spent the next four decades as a scientist and science administrator  mainly at the defence research and development organisation  drdo  and indian space research organisation  isro  and was intimately involved in india s civilian space programme and military missile development efforts ',\n",
              " 'he was known as the  missile man of india  for his work on the development of ballistic missile and launch vehicle technology ',\n",
              " 'he also played a pivotal organisational  technical  and political role in pokhran ii nuclear tests in       india s second such test after the first test in      ',\n",
              " 'kalam was elected as the president of india in      with the support of both the ruling bharatiya janata party and the then opposition indian national congress ',\n",
              " 'he was widely referred to as the  people s president  ',\n",
              " 'he engaged in teaching  writing and public service after his presidency ',\n",
              " 'he was a recipient of several awards  including the bharat ratna  india s highest civilian honour ',\n",
              " 'while delivering a lecture at iim shillong  kalam collapsed and died from an apparent cardiac arrest on    july       aged    ',\n",
              " 'thousands attended the funeral ceremony held in his hometown of rameswaram  where he was buried with full state honours ',\n",
              " 'a memorial was inaugurated near his home town in      ']"
            ]
          },
          "metadata": {},
          "execution_count": 13
        }
      ]
    },
    {
      "cell_type": "code",
      "source": [
        "nltk.download('stopwords')"
      ],
      "metadata": {
        "colab": {
          "base_uri": "https://localhost:8080/"
        },
        "id": "MFoIh86AbmUu",
        "outputId": "10735690-ab18-441b-db15-6266a1debda8"
      },
      "execution_count": 14,
      "outputs": [
        {
          "output_type": "stream",
          "name": "stderr",
          "text": [
            "[nltk_data] Downloading package stopwords to /root/nltk_data...\n",
            "[nltk_data]   Unzipping corpora/stopwords.zip.\n"
          ]
        },
        {
          "output_type": "execute_result",
          "data": {
            "text/plain": [
              "True"
            ]
          },
          "metadata": {},
          "execution_count": 14
        }
      ]
    },
    {
      "cell_type": "code",
      "source": [
        "for i in corpus:\n",
        "  words = nltk.word_tokenize(i)\n",
        "  for word in words:\n",
        "    if word not in set(stopwords.words('english')):\n",
        "      print(stemmer.stem(word))"
      ],
      "metadata": {
        "colab": {
          "base_uri": "https://localhost:8080/"
        },
        "id": "WD8u8GN5bt4l",
        "outputId": "dcfcd325-a805-4235-b4a6-cb6a43c4e5e4"
      },
      "execution_count": 15,
      "outputs": [
        {
          "output_type": "stream",
          "name": "stdout",
          "text": [
            "avul\n",
            "pakir\n",
            "jainulabdeen\n",
            "abdul\n",
            "kalam\n",
            "indian\n",
            "aerospac\n",
            "scientist\n",
            "statesman\n",
            "serv\n",
            "presid\n",
            "india\n",
            "born\n",
            "rais\n",
            "muslim\n",
            "famili\n",
            "rameswaram\n",
            "tamil\n",
            "nadu\n",
            "kalam\n",
            "studi\n",
            "physic\n",
            "aerospac\n",
            "engin\n",
            "spent\n",
            "next\n",
            "four\n",
            "decad\n",
            "scientist\n",
            "scienc\n",
            "administr\n",
            "mainli\n",
            "defenc\n",
            "research\n",
            "develop\n",
            "organis\n",
            "drdo\n",
            "indian\n",
            "space\n",
            "research\n",
            "organis\n",
            "isro\n",
            "intim\n",
            "involv\n",
            "india\n",
            "civilian\n",
            "space\n",
            "programm\n",
            "militari\n",
            "missil\n",
            "develop\n",
            "effort\n",
            "known\n",
            "missil\n",
            "man\n",
            "india\n",
            "work\n",
            "develop\n",
            "ballist\n",
            "missil\n",
            "launch\n",
            "vehicl\n",
            "technolog\n",
            "also\n",
            "play\n",
            "pivot\n",
            "organis\n",
            "technic\n",
            "polit\n",
            "role\n",
            "pokhran\n",
            "ii\n",
            "nuclear\n",
            "test\n",
            "india\n",
            "second\n",
            "test\n",
            "first\n",
            "test\n",
            "kalam\n",
            "elect\n",
            "presid\n",
            "india\n",
            "support\n",
            "rule\n",
            "bharatiya\n",
            "janata\n",
            "parti\n",
            "opposit\n",
            "indian\n",
            "nation\n",
            "congress\n",
            "wide\n",
            "refer\n",
            "peopl\n",
            "presid\n",
            "engag\n",
            "teach\n",
            "write\n",
            "public\n",
            "servic\n",
            "presid\n",
            "recipi\n",
            "sever\n",
            "award\n",
            "includ\n",
            "bharat\n",
            "ratna\n",
            "india\n",
            "highest\n",
            "civilian\n",
            "honour\n",
            "deliv\n",
            "lectur\n",
            "iim\n",
            "shillong\n",
            "kalam\n",
            "collaps\n",
            "die\n",
            "appar\n",
            "cardiac\n",
            "arrest\n",
            "juli\n",
            "age\n",
            "thousand\n",
            "attend\n",
            "funer\n",
            "ceremoni\n",
            "held\n",
            "hometown\n",
            "rameswaram\n",
            "buri\n",
            "full\n",
            "state\n",
            "honour\n",
            "memori\n",
            "inaugur\n",
            "near\n",
            "home\n",
            "town\n"
          ]
        }
      ]
    },
    {
      "cell_type": "code",
      "source": [
        "from sklearn.feature_extraction.text import CountVectorizer\n",
        "cv = CountVectorizer()\n",
        "x = cv.fit_transform(corpus)\n",
        "cv.vocabulary_\n"
      ],
      "metadata": {
        "colab": {
          "base_uri": "https://localhost:8080/"
        },
        "id": "Jc2CE8YZcB96",
        "outputId": "18cb1211-0fa9-48e1-92c7-d6be87ca5ba2"
      },
      "execution_count": 16,
      "outputs": [
        {
          "output_type": "execute_result",
          "data": {
            "text/plain": [
              "{'avul': 13,\n",
              " 'pakir': 84,\n",
              " 'jainulabdeen': 61,\n",
              " 'abdul': 0,\n",
              " 'kalam': 64,\n",
              " 'was': 130,\n",
              " 'an': 6,\n",
              " 'indian': 57,\n",
              " 'aerospace': 2,\n",
              " 'scientist': 105,\n",
              " 'and': 7,\n",
              " 'statesman': 114,\n",
              " 'who': 133,\n",
              " 'served': 107,\n",
              " 'as': 10,\n",
              " 'the': 124,\n",
              " 'president': 93,\n",
              " 'of': 79,\n",
              " 'india': 56,\n",
              " 'from': 40,\n",
              " 'to': 127,\n",
              " 'born': 18,\n",
              " 'raised': 96,\n",
              " 'in': 53,\n",
              " 'muslim': 73,\n",
              " 'family': 36,\n",
              " 'rameswaram': 97,\n",
              " 'tamil': 118,\n",
              " 'nadu': 74,\n",
              " 'studied': 115,\n",
              " 'physics': 87,\n",
              " 'engineering': 35,\n",
              " 'he': 43,\n",
              " 'spent': 112,\n",
              " 'next': 77,\n",
              " 'four': 39,\n",
              " 'decades': 26,\n",
              " 'science': 104,\n",
              " 'administrator': 1,\n",
              " 'mainly': 68,\n",
              " 'at': 11,\n",
              " 'defence': 27,\n",
              " 'research': 101,\n",
              " 'development': 29,\n",
              " 'organisation': 82,\n",
              " 'drdo': 31,\n",
              " 'space': 111,\n",
              " 'isro': 60,\n",
              " 'intimately': 58,\n",
              " 'involved': 59,\n",
              " 'civilian': 23,\n",
              " 'programme': 94,\n",
              " 'military': 71,\n",
              " 'missile': 72,\n",
              " 'efforts': 32,\n",
              " 'known': 65,\n",
              " 'man': 69,\n",
              " 'for': 38,\n",
              " 'his': 46,\n",
              " 'work': 136,\n",
              " 'on': 80,\n",
              " 'ballistic': 15,\n",
              " 'launch': 66,\n",
              " 'vehicle': 129,\n",
              " 'technology': 121,\n",
              " 'also': 5,\n",
              " 'played': 89,\n",
              " 'pivotal': 88,\n",
              " 'organisational': 83,\n",
              " 'technical': 120,\n",
              " 'political': 91,\n",
              " 'role': 102,\n",
              " 'pokhran': 90,\n",
              " 'ii': 51,\n",
              " 'nuclear': 78,\n",
              " 'tests': 123,\n",
              " 'second': 106,\n",
              " 'such': 116,\n",
              " 'test': 122,\n",
              " 'after': 3,\n",
              " 'first': 37,\n",
              " 'elected': 33,\n",
              " 'with': 135,\n",
              " 'support': 117,\n",
              " 'both': 19,\n",
              " 'ruling': 103,\n",
              " 'bharatiya': 17,\n",
              " 'janata': 62,\n",
              " 'party': 85,\n",
              " 'then': 125,\n",
              " 'opposition': 81,\n",
              " 'national': 75,\n",
              " 'congress': 25,\n",
              " 'widely': 134,\n",
              " 'referred': 100,\n",
              " 'people': 86,\n",
              " 'engaged': 34,\n",
              " 'teaching': 119,\n",
              " 'writing': 137,\n",
              " 'public': 95,\n",
              " 'service': 108,\n",
              " 'presidency': 92,\n",
              " 'recipient': 99,\n",
              " 'several': 109,\n",
              " 'awards': 14,\n",
              " 'including': 55,\n",
              " 'bharat': 16,\n",
              " 'ratna': 98,\n",
              " 'highest': 45,\n",
              " 'honour': 49,\n",
              " 'while': 132,\n",
              " 'delivering': 28,\n",
              " 'lecture': 67,\n",
              " 'iim': 52,\n",
              " 'shillong': 110,\n",
              " 'collapsed': 24,\n",
              " 'died': 30,\n",
              " 'apparent': 8,\n",
              " 'cardiac': 21,\n",
              " 'arrest': 9,\n",
              " 'july': 63,\n",
              " 'aged': 4,\n",
              " 'thousands': 126,\n",
              " 'attended': 12,\n",
              " 'funeral': 42,\n",
              " 'ceremony': 22,\n",
              " 'held': 44,\n",
              " 'hometown': 48,\n",
              " 'where': 131,\n",
              " 'buried': 20,\n",
              " 'full': 41,\n",
              " 'state': 113,\n",
              " 'honours': 50,\n",
              " 'memorial': 70,\n",
              " 'inaugurated': 54,\n",
              " 'near': 76,\n",
              " 'home': 47,\n",
              " 'town': 128}"
            ]
          },
          "metadata": {},
          "execution_count": 16
        }
      ]
    },
    {
      "cell_type": "markdown",
      "source": [
        "## TF-IDF"
      ],
      "metadata": {
        "id": "pk8rGskZuwkJ"
      }
    },
    {
      "cell_type": "code",
      "source": [
        "#TF - IDF (Term Frequency  Inverse Document Frequency)\n",
        "\n",
        "from sklearn.feature_extraction.text import TfidfVectorizer\n",
        "\n",
        "corpus = [\n",
        "    \"I love my dog\",\n",
        "    \"I love my cat\",\n",
        "    \"You love my dog!\"\n",
        "]\n",
        "\n",
        "v = TfidfVectorizer()\n",
        "result = v.fit_transform(corpus)\n",
        "v.vocabulary_"
      ],
      "metadata": {
        "colab": {
          "base_uri": "https://localhost:8080/"
        },
        "id": "WcZU_bWJtIdi",
        "outputId": "595ba5af-f192-4781-ab05-318fd1433381"
      },
      "execution_count": 17,
      "outputs": [
        {
          "output_type": "execute_result",
          "data": {
            "text/plain": [
              "{'love': 2, 'my': 3, 'dog': 1, 'cat': 0, 'you': 4}"
            ]
          },
          "metadata": {},
          "execution_count": 17
        }
      ]
    },
    {
      "cell_type": "code",
      "source": [
        "print(result)"
      ],
      "metadata": {
        "colab": {
          "base_uri": "https://localhost:8080/"
        },
        "id": "AamuaCA4txBb",
        "outputId": "67e2a0bf-a179-4115-9eb3-7c49fe6f8d2f"
      },
      "execution_count": 18,
      "outputs": [
        {
          "output_type": "stream",
          "name": "stdout",
          "text": [
            "<Compressed Sparse Row sparse matrix of dtype 'float64'\n",
            "\twith 10 stored elements and shape (3, 5)>\n",
            "  Coords\tValues\n",
            "  (0, 2)\t0.5228423068642596\n",
            "  (0, 3)\t0.5228423068642596\n",
            "  (0, 1)\t0.6732546652684398\n",
            "  (1, 2)\t0.4532946552278861\n",
            "  (1, 3)\t0.4532946552278861\n",
            "  (1, 0)\t0.7674945674619879\n",
            "  (2, 2)\t0.39148397136265967\n",
            "  (2, 3)\t0.39148397136265967\n",
            "  (2, 1)\t0.5041068915759233\n",
            "  (2, 4)\t0.6628399823470976\n"
          ]
        }
      ]
    },
    {
      "cell_type": "code",
      "source": [
        "all_feature_names = v.get_feature_names_out()\n",
        "for word in all_feature_names:\n",
        "  index = v.vocabulary_.get(word)\n",
        "  print(word,v.idf_[index])"
      ],
      "metadata": {
        "colab": {
          "base_uri": "https://localhost:8080/"
        },
        "id": "tz8W4QC5uGcW",
        "outputId": "00b97837-e060-4bd5-defc-dd0dae3b8c0c"
      },
      "execution_count": 19,
      "outputs": [
        {
          "output_type": "stream",
          "name": "stdout",
          "text": [
            "cat 1.6931471805599454\n",
            "dog 1.2876820724517808\n",
            "love 1.0\n",
            "my 1.0\n",
            "you 1.6931471805599454\n"
          ]
        }
      ]
    }
  ]
}